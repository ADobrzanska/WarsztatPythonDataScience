{
 "cells": [
  {
   "cell_type": "markdown",
   "metadata": {},
   "source": [
    "# 'Tidy data' with Python\n",
    "---\n",
    "#### We współpracy z *Sergiy Tkachuk*  \n",
    "[@TkachukSergiy](https://twitter.com/TkachukSergiy)  \n",
    "tkachuk.sergiy23@gmail.com"
   ]
  },
  {
   "cell_type": "markdown",
   "metadata": {},
   "source": [
    "<details><summary>Sprawdź materiały do prezentacji</summary>\n",
    "<p>\n",
    "    \n",
    "Autor: **Hadley Wickham**  \n",
    "[Wikipedia](https://en.wikipedia.org/wiki/Tidy_data)  \n",
    "[Link do artykułu](https://www.jstatsoft.org/index.php/jss/article/view/v059i10/v59i10.pdf)\n",
    "\n",
    "</p>\n",
    "</details>"
   ]
  },
  {
   "cell_type": "code",
   "execution_count": 3,
   "metadata": {},
   "outputs": [],
   "source": [
    "import pandas as pd\n",
    "import numpy as np"
   ]
  },
  {
   "cell_type": "markdown",
   "metadata": {},
   "source": [
    "### Zadanie - Python 4"
   ]
  },
  {
   "cell_type": "markdown",
   "metadata": {},
   "source": [
    "#### Zadanie 1\n",
    "\n",
    "Napraw `df_e` biorąc maksimum wartości `baz` dla pary `foo`, `bar` (odrzuć konflikty)"
   ]
  },
  {
   "cell_type": "code",
   "execution_count": null,
   "metadata": {},
   "outputs": [],
   "source": [
    "df_e = pd.DataFrame({\"foo\": ['one', 'one', 'two', 'two'],\n",
    "                   \"bar\": ['A', 'A', 'B', 'C'],\n",
    "                   \"baz\": [1, 2, 3, 4]})"
   ]
  },
  {
   "cell_type": "code",
   "execution_count": null,
   "metadata": {},
   "outputs": [],
   "source": [
    "df_e.groupby(['foo','bar']).aggregate('max')"
   ]
  },
  {
   "cell_type": "code",
   "execution_count": null,
   "metadata": {},
   "outputs": [],
   "source": [
    "df_e.groupby(['foo','bar']).aggregate('max').reset_index()"
   ]
  },
  {
   "cell_type": "markdown",
   "metadata": {},
   "source": [
    "### Zadanie 2\n",
    "\n",
    "Do poniższego DataFrame:\n",
    "    \n",
    "`df = pd.DataFrame(np.random.randint(1,100, 80).reshape(8, 10))`\n",
    "\n",
    "Dołożyć:\n",
    "    \n",
    "- kolumnę z sumą po wierszach\n",
    "- wiersz z sumą po kolumnach"
   ]
  },
  {
   "cell_type": "code",
   "execution_count": null,
   "metadata": {},
   "outputs": [],
   "source": [
    "df = pd.DataFrame(np.random.randint(1,100, 80).reshape(8, 10))"
   ]
  },
  {
   "cell_type": "code",
   "execution_count": null,
   "metadata": {},
   "outputs": [],
   "source": [
    "def sumy(df):\n",
    "    df['Total'] = df.sum(axis=1)\n",
    "    i, j = df.shape\n",
    "    df.loc[i+1] = df.sum(axis=0)\n",
    "    return df\n",
    "\n",
    "sumy(df)"
   ]
  },
  {
   "cell_type": "markdown",
   "metadata": {},
   "source": [
    "#### Zadanie 3\n",
    "\n",
    "Przerobic DataFrame:"
   ]
  },
  {
   "cell_type": "code",
   "execution_count": null,
   "metadata": {},
   "outputs": [],
   "source": [
    "data = {'weekday': [\"Monday\", \"Tuesday\", \"Wednesday\", \n",
    "         \"Thursday\", \"Friday\", \"Saturday\", \"Sunday\"],\n",
    "        'Person 1': [12, 6, 5, 8, 11, 6, 4],\n",
    "        'Person 2': [10, 6, 11, 5, 8, 9, 12],\n",
    "        'Person 3': [8, 5, 7, 3, 7, 11, 15]}\n",
    "df = pd.DataFrame(data, columns=['weekday',\n",
    "        'Person 1', 'Person 2', 'Person 3'])"
   ]
  },
  {
   "cell_type": "code",
   "execution_count": null,
   "metadata": {},
   "outputs": [],
   "source": [
    "df"
   ]
  },
  {
   "cell_type": "markdown",
   "metadata": {},
   "source": [
    "Na postać \"tidy\" (1 wiersz na ocenę)"
   ]
  },
  {
   "cell_type": "code",
   "execution_count": null,
   "metadata": {},
   "outputs": [],
   "source": [
    "melted = pd.melt(df, id_vars=[\"weekday\"], \n",
    "                 var_name=\"Person\", value_name=\"Score\")\n",
    "melted"
   ]
  },
  {
   "cell_type": "markdown",
   "metadata": {},
   "source": [
    "#### Zadanie 4\n",
    "\n",
    "Biorąc następujący DataFrame:"
   ]
  },
  {
   "cell_type": "code",
   "execution_count": null,
   "metadata": {},
   "outputs": [],
   "source": [
    "df = pd.DataFrame(data = {\n",
    "    'Day' : ['MON', 'TUE', 'WED', 'THU', 'FRI'], \n",
    "    'Google' : [1129,1132,1134,1152,1152], \n",
    "    'Apple' : [191,192,190,190,188] \n",
    "})\n",
    "df"
   ]
  },
  {
   "cell_type": "code",
   "execution_count": null,
   "metadata": {},
   "outputs": [],
   "source": [
    "reshaped_df = df.melt(id_vars=['Day'], var_name='Company', value_name='Closing Price')\n",
    "reshaped_df"
   ]
  },
  {
   "cell_type": "markdown",
   "metadata": {},
   "source": [
    "Stworzyć korzystając z `reshaped_df` przy uzyciu `pivot` DataFrame identyczny z `df`"
   ]
  },
  {
   "cell_type": "code",
   "execution_count": null,
   "metadata": {},
   "outputs": [],
   "source": [
    "original_df = reshaped_df.pivot(index='Day', columns='Company')['Closing Price'].reset_index()\n",
    "original_df.columns.name = None\n",
    "original_df"
   ]
  },
  {
   "cell_type": "markdown",
   "metadata": {},
   "source": [
    "---"
   ]
  },
  {
   "cell_type": "markdown",
   "metadata": {},
   "source": [
    "## Pamiętajmy o podstawowych zasadach:  \n",
    "1. Każda zmienna tworzy kolumnę.\n",
    "2. Każda obserwacja stanowi wiersz.\n",
    "3. Dane w jednej kolumnie są przechowywane w jednym formacie."
   ]
  },
  {
   "cell_type": "code",
   "execution_count": null,
   "metadata": {},
   "outputs": [],
   "source": [
    "url1 = 'https://s3.amazonaws.com/assets.datacamp.com/production/course_1273/datasets/df1.csv'\n",
    "url2 = 'https://s3.amazonaws.com/assets.datacamp.com/production/course_1273/datasets/df2.csv'\n",
    "\n",
    "df1 = pd.read_csv(url1, sep = ',')\n",
    "df2 = pd.read_csv(url2, sep = ',')"
   ]
  },
  {
   "cell_type": "markdown",
   "metadata": {},
   "source": [
    "#### Jakie zasady nie spełniają załadowane tabele?"
   ]
  },
  {
   "cell_type": "code",
   "execution_count": null,
   "metadata": {},
   "outputs": [],
   "source": [
    "df1"
   ]
  },
  {
   "cell_type": "code",
   "execution_count": null,
   "metadata": {},
   "outputs": [],
   "source": [
    "df2"
   ]
  },
  {
   "cell_type": "markdown",
   "metadata": {},
   "source": [
    "<details><summary>Odpowiedź</summary>\n",
    "<p>\n",
    "\n",
    "df2 --> reguła 2  \n",
    "Obserwujemy coś w jakimś momencie, dlatego czasowe dane nie mogą stanowić nagłówków.\n",
    "\n",
    "</p>\n",
    "</details>"
   ]
  },
  {
   "cell_type": "markdown",
   "metadata": {},
   "source": [
    "#### Zrób dane bardziej 'tidy'"
   ]
  },
  {
   "cell_type": "raw",
   "metadata": {},
   "source": [
    "df2_melted = ??\n",
    "\n",
    "print(df2_melted)"
   ]
  },
  {
   "cell_type": "markdown",
   "metadata": {},
   "source": [
    "<details><summary>Odpowiedź</summary>\n",
    "<p>\n",
    "\n",
    "<code>pd.melt(df2, id_vars=['Country'])</code>\n",
    "\n",
    "</p>\n",
    "</details>"
   ]
  },
  {
   "cell_type": "code",
   "execution_count": null,
   "metadata": {},
   "outputs": [],
   "source": [
    "df2_melted = pd.melt(df2, id_vars=['Country'])\n",
    "df2_melted"
   ]
  },
  {
   "cell_type": "markdown",
   "metadata": {},
   "source": [
    "#### Metoda 'split'"
   ]
  },
  {
   "cell_type": "code",
   "execution_count": null,
   "metadata": {},
   "outputs": [],
   "source": [
    "columns = [c if c != 'owner' else 'name' for c in df1.columns]\n",
    "columns"
   ]
  },
  {
   "cell_type": "code",
   "execution_count": null,
   "metadata": {},
   "outputs": [],
   "source": [
    "df1['surnames'] = ['Escobar', 'Potter', 'Connor']\n",
    "df1"
   ]
  },
  {
   "cell_type": "code",
   "execution_count": null,
   "metadata": {},
   "outputs": [],
   "source": [
    "df1['full name'] = df1.owner + ' ' + df1.surnames\n",
    "df1 = df1.drop(['owner', 'surnames'], axis=1)\n",
    "df1"
   ]
  },
  {
   "cell_type": "code",
   "execution_count": null,
   "metadata": {},
   "outputs": [],
   "source": [
    "# error\n",
    "df1['name'] = df1['full name'].split(' ')"
   ]
  },
  {
   "cell_type": "code",
   "execution_count": null,
   "metadata": {},
   "outputs": [],
   "source": [
    "df1['name'] = df1['full name'].apply(lambda x: x.split(' '))\n",
    "df1"
   ]
  },
  {
   "cell_type": "code",
   "execution_count": null,
   "metadata": {},
   "outputs": [],
   "source": [
    "df1['name'] = df1['full name'].apply(lambda x: x.split(' ')[0])\n",
    "df1"
   ]
  },
  {
   "cell_type": "code",
   "execution_count": null,
   "metadata": {},
   "outputs": [],
   "source": [
    "df2_tidy = df2_melted.rename(columns = {'variable': 'Year', 'value': 'Income'})\n",
    "df2_tidy"
   ]
  },
  {
   "cell_type": "code",
   "execution_count": null,
   "metadata": {},
   "outputs": [],
   "source": [
    "df2_melted"
   ]
  },
  {
   "cell_type": "code",
   "execution_count": null,
   "metadata": {},
   "outputs": [],
   "source": [
    "df2_melted.rename(columns = {'variable': 'Year', 'value': 'Income'}, inplace=True)\n",
    "df2_melted"
   ]
  },
  {
   "cell_type": "markdown",
   "metadata": {},
   "source": [
    "#### Braki danych"
   ]
  },
  {
   "cell_type": "code",
   "execution_count": null,
   "metadata": {},
   "outputs": [],
   "source": [
    "missing_f = pd.DataFrame([[1,1,1,1,2,2,2,2],[1,np.nan,np.nan,np.nan,2,np.nan,np.nan,np.nan]])\n",
    "missing_b = pd.DataFrame([[1,1,1,1,2,2,2,2],[np.nan,np.nan,np.nan,1,np.nan,np.nan,np.nan,2]])\n",
    "display(missing_f)"
   ]
  },
  {
   "cell_type": "code",
   "execution_count": null,
   "metadata": {},
   "outputs": [],
   "source": [
    "missing_f.T"
   ]
  },
  {
   "cell_type": "code",
   "execution_count": null,
   "metadata": {},
   "outputs": [],
   "source": [
    "missing_f.T.fillna(method='ffill')"
   ]
  },
  {
   "cell_type": "markdown",
   "metadata": {},
   "source": [
    "##### Uzupełnić braki w missing_b metodą 'bfill'"
   ]
  },
  {
   "cell_type": "code",
   "execution_count": null,
   "metadata": {},
   "outputs": [],
   "source": [
    "missing_b.T"
   ]
  },
  {
   "cell_type": "code",
   "execution_count": null,
   "metadata": {},
   "outputs": [],
   "source": [
    "missing_b.T.fillna(method='bfill')"
   ]
  },
  {
   "cell_type": "markdown",
   "metadata": {},
   "source": [
    "#### Formatowanie"
   ]
  },
  {
   "cell_type": "code",
   "execution_count": null,
   "metadata": {
    "scrolled": true
   },
   "outputs": [],
   "source": [
    "df2_melted.dtypes"
   ]
  },
  {
   "cell_type": "code",
   "execution_count": null,
   "metadata": {},
   "outputs": [],
   "source": [
    "df2_melted['Year'] = df2_melted['Year'].apply(lambda x: x[1:5])\n",
    "df2_melted"
   ]
  },
  {
   "cell_type": "code",
   "execution_count": null,
   "metadata": {},
   "outputs": [],
   "source": [
    "df2_melted['Year'].apply(pd.to_numeric)"
   ]
  },
  {
   "cell_type": "code",
   "execution_count": null,
   "metadata": {},
   "outputs": [],
   "source": [
    "df2_melted['Year'].astype('int64')"
   ]
  },
  {
   "cell_type": "markdown",
   "metadata": {},
   "source": [
    "### Więcej zabawy z danymi"
   ]
  },
  {
   "cell_type": "code",
   "execution_count": null,
   "metadata": {},
   "outputs": [],
   "source": [
    "messy = pd.DataFrame({'First' : ['John', 'Jane', 'Mary'], \n",
    "                      'Last' : ['Smith', 'Doe', 'Johnson'], \n",
    "                      'Treatment A' : [np.nan, 16, 3], \n",
    "                      'Treatment B' : [2, 11, 1]})\n",
    "messy"
   ]
  },
  {
   "cell_type": "code",
   "execution_count": null,
   "metadata": {},
   "outputs": [],
   "source": [
    "messy.transpose()"
   ]
  },
  {
   "cell_type": "code",
   "execution_count": null,
   "metadata": {},
   "outputs": [],
   "source": [
    "messy.T"
   ]
  },
  {
   "cell_type": "code",
   "execution_count": null,
   "metadata": {},
   "outputs": [],
   "source": [
    "tidy = pd.melt(messy, \n",
    "               id_vars=['First','Last'], \n",
    "               var_name='treatment', \n",
    "               value_name='result')\n",
    "tidy"
   ]
  },
  {
   "cell_type": "code",
   "execution_count": null,
   "metadata": {},
   "outputs": [],
   "source": [
    "tidy['Name'] = tidy['First'] + ' ' + tidy['Last']"
   ]
  },
  {
   "cell_type": "code",
   "execution_count": null,
   "metadata": {},
   "outputs": [],
   "source": [
    "messy1 = tidy.pivot(index='Name',columns='treatment',values='result')\n",
    "messy1"
   ]
  },
  {
   "cell_type": "code",
   "execution_count": null,
   "metadata": {},
   "outputs": [],
   "source": [
    "messy1.index"
   ]
  },
  {
   "cell_type": "code",
   "execution_count": null,
   "metadata": {},
   "outputs": [],
   "source": [
    "messy1.reset_index(inplace=True)\n",
    "messy1"
   ]
  },
  {
   "cell_type": "markdown",
   "metadata": {},
   "source": [
    "#### Wiele zmiennych przechowywanych w jednej kolumnie"
   ]
  },
  {
   "cell_type": "code",
   "execution_count": null,
   "metadata": {},
   "outputs": [],
   "source": [
    "messy_df = pd.read_csv('https://raw.githubusercontent.com/hadley/tidy-data/master/data/tb.csv', sep=',')\n",
    "\n",
    "display(messy_df.head())\n",
    "\n",
    "print(messy_df.columns)\n",
    "\n",
    "print('\\nIlość obserwacji - %d.\\nIlość zmiennych - %d.' % messy_df.shape)"
   ]
  },
  {
   "cell_type": "code",
   "execution_count": null,
   "metadata": {},
   "outputs": [],
   "source": [
    "messy_df.columns = messy_df.columns.str.replace('new_sp_','')\n",
    "messy_df.tail()"
   ]
  },
  {
   "cell_type": "code",
   "execution_count": null,
   "metadata": {},
   "outputs": [],
   "source": [
    "messy_df.rename(columns = {'iso2' : 'country'}, inplace=True)\n",
    "messy_df.tail()"
   ]
  },
  {
   "cell_type": "code",
   "execution_count": null,
   "metadata": {},
   "outputs": [],
   "source": [
    "messy_df = messy_df[messy_df['year'] == 2000]\n",
    "messy_df.head()"
   ]
  },
  {
   "cell_type": "code",
   "execution_count": null,
   "metadata": {},
   "outputs": [],
   "source": [
    "messy_df.drop(['new_sp','m04','m514','f04','f514'], axis=1, inplace=True)\n",
    "messy_df.head()"
   ]
  },
  {
   "cell_type": "code",
   "execution_count": null,
   "metadata": {},
   "outputs": [],
   "source": [
    "messy_df.iloc[:,:11].head(10)\n",
    "messy_df.head()"
   ]
  },
  {
   "cell_type": "code",
   "execution_count": null,
   "metadata": {},
   "outputs": [],
   "source": [
    "molten = pd.melt(messy_df, id_vars=['country', 'year'], value_name='cases')\n",
    "molten.head()"
   ]
  },
  {
   "cell_type": "code",
   "execution_count": null,
   "metadata": {},
   "outputs": [],
   "source": [
    "molten.sort_values(by=['year', 'country'], inplace=True)\n",
    "molten.head()"
   ]
  },
  {
   "cell_type": "code",
   "execution_count": null,
   "metadata": {},
   "outputs": [],
   "source": [
    "tidy = molten[molten['variable'] != 'mu'].copy()\n",
    "\n",
    "def parse_age(s):\n",
    "    s = s[1:]\n",
    "    if s == '65':\n",
    "        return '65+'\n",
    "    else:\n",
    "        return s[:-2]+'-'+s[-2:]\n",
    "\n",
    "tidy['sex'] = tidy['variable'].apply(lambda s: s[:1])\n",
    "tidy['age'] = tidy['variable'].apply(parse_age)\n",
    "tidy = tidy[['country', 'year', 'sex', 'age', 'cases']]\n",
    "tidy.head(10)"
   ]
  },
  {
   "cell_type": "code",
   "execution_count": null,
   "metadata": {},
   "outputs": [],
   "source": [
    "tidy.fillna(0)"
   ]
  },
  {
   "cell_type": "markdown",
   "metadata": {},
   "source": [
    "### More pandas\n",
    "\n",
    "![title](http://www.slate.fr/sites/default/files/styles/1060x523/public/rtx1tglo.jpg)"
   ]
  },
  {
   "cell_type": "raw",
   "metadata": {},
   "source": [
    "conda install -c ranaroussi yfinance"
   ]
  },
  {
   "cell_type": "code",
   "execution_count": 7,
   "metadata": {},
   "outputs": [
    {
     "name": "stdout",
     "output_type": "stream",
     "text": [
      "[*********************100%***********************]  1 of 1 completed\n"
     ]
    },
    {
     "data": {
      "text/html": [
       "<div>\n",
       "<style scoped>\n",
       "    .dataframe tbody tr th:only-of-type {\n",
       "        vertical-align: middle;\n",
       "    }\n",
       "\n",
       "    .dataframe tbody tr th {\n",
       "        vertical-align: top;\n",
       "    }\n",
       "\n",
       "    .dataframe thead th {\n",
       "        text-align: right;\n",
       "    }\n",
       "</style>\n",
       "<table border=\"1\" class=\"dataframe\">\n",
       "  <thead>\n",
       "    <tr style=\"text-align: right;\">\n",
       "      <th></th>\n",
       "      <th>Open</th>\n",
       "      <th>High</th>\n",
       "      <th>Low</th>\n",
       "      <th>Close</th>\n",
       "      <th>Adj Close</th>\n",
       "      <th>Volume</th>\n",
       "    </tr>\n",
       "    <tr>\n",
       "      <th>Date</th>\n",
       "      <th></th>\n",
       "      <th></th>\n",
       "      <th></th>\n",
       "      <th></th>\n",
       "      <th></th>\n",
       "      <th></th>\n",
       "    </tr>\n",
       "  </thead>\n",
       "  <tbody>\n",
       "    <tr>\n",
       "      <th>2015-12-31</th>\n",
       "      <td>107.010002</td>\n",
       "      <td>107.029999</td>\n",
       "      <td>104.820000</td>\n",
       "      <td>105.260002</td>\n",
       "      <td>98.362572</td>\n",
       "      <td>40912300</td>\n",
       "    </tr>\n",
       "    <tr>\n",
       "      <th>2016-01-04</th>\n",
       "      <td>102.610001</td>\n",
       "      <td>105.370003</td>\n",
       "      <td>102.000000</td>\n",
       "      <td>105.349998</td>\n",
       "      <td>98.446655</td>\n",
       "      <td>67649400</td>\n",
       "    </tr>\n",
       "    <tr>\n",
       "      <th>2016-01-05</th>\n",
       "      <td>105.750000</td>\n",
       "      <td>105.849998</td>\n",
       "      <td>102.410004</td>\n",
       "      <td>102.709999</td>\n",
       "      <td>95.979675</td>\n",
       "      <td>55791000</td>\n",
       "    </tr>\n",
       "    <tr>\n",
       "      <th>2016-01-06</th>\n",
       "      <td>100.559998</td>\n",
       "      <td>102.370003</td>\n",
       "      <td>99.870003</td>\n",
       "      <td>100.699997</td>\n",
       "      <td>94.101387</td>\n",
       "      <td>68457400</td>\n",
       "    </tr>\n",
       "    <tr>\n",
       "      <th>2016-01-07</th>\n",
       "      <td>98.680000</td>\n",
       "      <td>100.129997</td>\n",
       "      <td>96.430000</td>\n",
       "      <td>96.449997</td>\n",
       "      <td>90.129868</td>\n",
       "      <td>81094400</td>\n",
       "    </tr>\n",
       "  </tbody>\n",
       "</table>\n",
       "</div>"
      ],
      "text/plain": [
       "                  Open        High         Low       Close  Adj Close  \\\n",
       "Date                                                                    \n",
       "2015-12-31  107.010002  107.029999  104.820000  105.260002  98.362572   \n",
       "2016-01-04  102.610001  105.370003  102.000000  105.349998  98.446655   \n",
       "2016-01-05  105.750000  105.849998  102.410004  102.709999  95.979675   \n",
       "2016-01-06  100.559998  102.370003   99.870003  100.699997  94.101387   \n",
       "2016-01-07   98.680000  100.129997   96.430000   96.449997  90.129868   \n",
       "\n",
       "              Volume  \n",
       "Date                  \n",
       "2015-12-31  40912300  \n",
       "2016-01-04  67649400  \n",
       "2016-01-05  55791000  \n",
       "2016-01-06  68457400  \n",
       "2016-01-07  81094400  "
      ]
     },
     "execution_count": 7,
     "metadata": {},
     "output_type": "execute_result"
    }
   ],
   "source": [
    "import yfinance as yf  \n",
    "data = yf.download('AAPL','2016-01-01','2018-01-01')\n",
    "data.head()"
   ]
  },
  {
   "cell_type": "code",
   "execution_count": 9,
   "metadata": {},
   "outputs": [
    {
     "data": {
      "text/plain": [
       "Date\n",
       "2015-12-31           NaN\n",
       "2016-01-04    105.260002\n",
       "2016-01-05    105.349998\n",
       "2016-01-06    102.709999\n",
       "2016-01-07    100.699997\n",
       "Name: Close, dtype: float64"
      ]
     },
     "execution_count": 9,
     "metadata": {},
     "output_type": "execute_result"
    }
   ],
   "source": [
    "data['Close'].shift().head()"
   ]
  },
  {
   "cell_type": "code",
   "execution_count": 10,
   "metadata": {},
   "outputs": [
    {
     "data": {
      "text/plain": [
       "Date\n",
       "2015-12-31         NaN\n",
       "2016-01-04    0.089996\n",
       "2016-01-05   -2.639999\n",
       "2016-01-06   -2.010002\n",
       "2016-01-07   -4.250000\n",
       "Name: Close, dtype: float64"
      ]
     },
     "execution_count": 10,
     "metadata": {},
     "output_type": "execute_result"
    }
   ],
   "source": [
    "pd.Series(data['Close'] - data['Close'].shift()).head()"
   ]
  },
  {
   "cell_type": "markdown",
   "metadata": {},
   "source": [
    "... albo po prostu"
   ]
  },
  {
   "cell_type": "code",
   "execution_count": 11,
   "metadata": {},
   "outputs": [
    {
     "data": {
      "text/plain": [
       "Date\n",
       "2015-12-31         NaN\n",
       "2016-01-04    0.089996\n",
       "2016-01-05   -2.639999\n",
       "2016-01-06   -2.010002\n",
       "2016-01-07   -4.250000\n",
       "Name: Close, dtype: float64"
      ]
     },
     "execution_count": 11,
     "metadata": {},
     "output_type": "execute_result"
    }
   ],
   "source": [
    "data['Close'].diff().head()"
   ]
  },
  {
   "cell_type": "code",
   "execution_count": 12,
   "metadata": {},
   "outputs": [
    {
     "data": {
      "text/plain": [
       "Date\n",
       "2015-12-31           NaN\n",
       "2016-01-04    105.305000\n",
       "2016-01-05    104.029999\n",
       "2016-01-06    101.704998\n",
       "2016-01-07     98.574997\n",
       "Name: Close, dtype: float64"
      ]
     },
     "execution_count": 12,
     "metadata": {},
     "output_type": "execute_result"
    }
   ],
   "source": [
    "data.Close.rolling(window=2).mean().head()"
   ]
  },
  {
   "cell_type": "markdown",
   "metadata": {},
   "source": [
    "#### Znajdź dzienną procentową zmianę akcji"
   ]
  },
  {
   "cell_type": "code",
   "execution_count": null,
   "metadata": {},
   "outputs": [],
   "source": []
  },
  {
   "cell_type": "markdown",
   "metadata": {},
   "source": [
    "<details><summary>Odpowiedź</summary>\n",
    "<p>\n",
    "\n",
    "<code>data.Close.diff() / data.Close.shift()</code>\n",
    "\n",
    "</p>\n",
    "</details>"
   ]
  },
  {
   "cell_type": "markdown",
   "metadata": {},
   "source": [
    "### Zadanie domowe\n",
    "\n"
   ]
  },
  {
   "cell_type": "markdown",
   "metadata": {},
   "source": [
    "#### 0.Znajdź dzienną procentową zmianę akcji"
   ]
  },
  {
   "cell_type": "code",
   "execution_count": null,
   "metadata": {},
   "outputs": [],
   "source": [
    "data = pd.read_csv('https://assets.datacamp.com/production/course_2023/datasets/dob_job_application_filings_subset.csv', sep=',')\n",
    "data.head()"
   ]
  },
  {
   "cell_type": "markdown",
   "metadata": {},
   "source": [
    "[O danych](https://data.cityofnewyork.us/Housing-Development/DOB-Job-Application-Filings/ic3t-wcy2)"
   ]
  },
  {
   "cell_type": "markdown",
   "metadata": {},
   "source": [
    "---"
   ]
  },
  {
   "cell_type": "markdown",
   "metadata": {},
   "source": [
    "#### 1. Wybierz następujące kolumny (Job Type, Job Status, City, Doc #, Initial Cost, Total Est. Fee)  dla stanu 'NY'. Wynik zapisz do df."
   ]
  },
  {
   "cell_type": "markdown",
   "metadata": {},
   "source": [
    "#### 2. Konwertuj kolumny 'Initial Cost', 'Total Est. Fee' na numeryczny format"
   ]
  },
  {
   "cell_type": "markdown",
   "metadata": {},
   "source": [
    "#### 3. Grupując po City i Job Type znajdź sumy dla Initial Cost i średnie dla Total Est. Fee"
   ]
  },
  {
   "cell_type": "markdown",
   "metadata": {},
   "source": [
    "---"
   ]
  },
  {
   "cell_type": "code",
   "execution_count": 5,
   "metadata": {},
   "outputs": [
    {
     "data": {
      "text/html": [
       "<div>\n",
       "<style scoped>\n",
       "    .dataframe tbody tr th:only-of-type {\n",
       "        vertical-align: middle;\n",
       "    }\n",
       "\n",
       "    .dataframe tbody tr th {\n",
       "        vertical-align: top;\n",
       "    }\n",
       "\n",
       "    .dataframe thead th {\n",
       "        text-align: right;\n",
       "    }\n",
       "</style>\n",
       "<table border=\"1\" class=\"dataframe\">\n",
       "  <thead>\n",
       "    <tr style=\"text-align: right;\">\n",
       "      <th></th>\n",
       "      <th>Jeżeli jesteś absolwentem studiów licencjackich SGH, w którym roku zdobyłeś(-aś) ten dyplom?</th>\n",
       "      <th>Jaką liczbę punktów uzyskałeś(-aś) w postępowaniu rekrutacyjnym?</th>\n",
       "      <th>Płeć:</th>\n",
       "      <th>\\tW jakim trybie studiujesz/studiowałeś na studiach licencjackich w SGH?</th>\n",
       "      <th>Jaki jest/był Twój kierunek na studiach licencjackich w SGH?</th>\n",
       "      <th>Czy w ciągu 2 pierwszych semestrów studiów licencjackich działałeś(-aś) w organizacjach studenckich?</th>\n",
       "      <th>Wybierz z listy imię i nazwisko wykładowcy, u którego realizowałeś(-aś) Matematykę.</th>\n",
       "      <th>Jak często uczęszczałeś(-aś) na wykłady</th>\n",
       "      <th>W którym terminie zaliczyłeś(-aś) egzamin?</th>\n",
       "      <th>Jaką uzyskałeś(-aś) końcową ocenę z przedmiotu?</th>\n",
       "      <th>...</th>\n",
       "      <th>Dlaczego poleciłbyś/nie poleciłbyś danego ćwiczeniowca innym studentom?</th>\n",
       "      <th>Unnamed: 50</th>\n",
       "      <th>Unnamed: 51</th>\n",
       "      <th>Unnamed: 52</th>\n",
       "      <th>Unnamed: 53</th>\n",
       "      <th>Unnamed: 54</th>\n",
       "      <th>Unnamed: 55</th>\n",
       "      <th>Unnamed: 56</th>\n",
       "      <th>Unnamed: 57</th>\n",
       "      <th>Unnamed: 58</th>\n",
       "    </tr>\n",
       "    <tr>\n",
       "      <th>Który semestr aktualnie realizujesz?</th>\n",
       "      <th></th>\n",
       "      <th></th>\n",
       "      <th></th>\n",
       "      <th></th>\n",
       "      <th></th>\n",
       "      <th></th>\n",
       "      <th></th>\n",
       "      <th></th>\n",
       "      <th></th>\n",
       "      <th></th>\n",
       "      <th></th>\n",
       "      <th></th>\n",
       "      <th></th>\n",
       "      <th></th>\n",
       "      <th></th>\n",
       "      <th></th>\n",
       "      <th></th>\n",
       "      <th></th>\n",
       "      <th></th>\n",
       "      <th></th>\n",
       "      <th></th>\n",
       "    </tr>\n",
       "  </thead>\n",
       "  <tbody>\n",
       "    <tr>\n",
       "      <th>I (studia licencjackie)</th>\n",
       "      <td>NaN</td>\n",
       "      <td>311 - 333</td>\n",
       "      <td>Kobieta</td>\n",
       "      <td>Stacjonarne</td>\n",
       "      <td>Brak wybranego kierunku</td>\n",
       "      <td>Tak, aktywnie</td>\n",
       "      <td>prof. dr hab. Sławomir Dorosiewicz</td>\n",
       "      <td>Byłem(-am) na większości</td>\n",
       "      <td>I termin</td>\n",
       "      <td>3,0</td>\n",
       "      <td>...</td>\n",
       "      <td>Ciekawie prowadzone zajęcia</td>\n",
       "      <td>NaN</td>\n",
       "      <td>NaN</td>\n",
       "      <td>NaN</td>\n",
       "      <td>NaN</td>\n",
       "      <td>NaN</td>\n",
       "      <td>NaN</td>\n",
       "      <td>NaN</td>\n",
       "      <td>Szwankujące umiejętności przekazania wiedzy</td>\n",
       "      <td>NaN</td>\n",
       "    </tr>\n",
       "    <tr>\n",
       "      <th>II (studia licencjackie)</th>\n",
       "      <td>NaN</td>\n",
       "      <td>271 - 290</td>\n",
       "      <td>Mężczyzna</td>\n",
       "      <td>Stacjonarne</td>\n",
       "      <td>Brak wybranego kierunku</td>\n",
       "      <td>Tak, sporadycznie</td>\n",
       "      <td>dr hab. Agata Boratyńska</td>\n",
       "      <td>Byłem(-am) na wszystkich</td>\n",
       "      <td>I termin</td>\n",
       "      <td>4,5</td>\n",
       "      <td>...</td>\n",
       "      <td>Ciekawie prowadzone zajęcia</td>\n",
       "      <td>NaN</td>\n",
       "      <td>NaN</td>\n",
       "      <td>Umiejętność przekazywania wiedzy</td>\n",
       "      <td>NaN</td>\n",
       "      <td>NaN</td>\n",
       "      <td>NaN</td>\n",
       "      <td>Bardzo wymagające zaliczenie ćwiczeń</td>\n",
       "      <td>NaN</td>\n",
       "      <td>NaN</td>\n",
       "    </tr>\n",
       "    <tr>\n",
       "      <th>II (studia licencjackie)</th>\n",
       "      <td>NaN</td>\n",
       "      <td>250 - 270</td>\n",
       "      <td>Kobieta</td>\n",
       "      <td>Stacjonarne</td>\n",
       "      <td>Brak wybranego kierunku</td>\n",
       "      <td>Nie</td>\n",
       "      <td>dr Mariusz Kozakiewicz</td>\n",
       "      <td>Byłem(-am) na większości</td>\n",
       "      <td>I termin</td>\n",
       "      <td>4,0</td>\n",
       "      <td>...</td>\n",
       "      <td>NaN</td>\n",
       "      <td>NaN</td>\n",
       "      <td>Łatwość zaliczenia ćwiczeń</td>\n",
       "      <td>NaN</td>\n",
       "      <td>NaN</td>\n",
       "      <td>Niezbyt porywające zajęcia</td>\n",
       "      <td>NaN</td>\n",
       "      <td>NaN</td>\n",
       "      <td>Szwankujące umiejętności przekazania wiedzy</td>\n",
       "      <td>Brak możliwości zaliczenia ćwiczeń inaczej niż...</td>\n",
       "    </tr>\n",
       "    <tr>\n",
       "      <th>II (studia licencjackie)</th>\n",
       "      <td>NaN</td>\n",
       "      <td>250 - 270</td>\n",
       "      <td>Mężczyzna</td>\n",
       "      <td>Stacjonarne</td>\n",
       "      <td>Brak wybranego kierunku</td>\n",
       "      <td>Tak, aktywnie</td>\n",
       "      <td>prof. dr hab. Jerzy Nowakowski</td>\n",
       "      <td>Byłem(-am) kilka razy</td>\n",
       "      <td>I termin</td>\n",
       "      <td>4,5</td>\n",
       "      <td>...</td>\n",
       "      <td>NaN</td>\n",
       "      <td>NaN</td>\n",
       "      <td>Łatwość zaliczenia ćwiczeń</td>\n",
       "      <td>Umiejętność przekazywania wiedzy</td>\n",
       "      <td>NaN</td>\n",
       "      <td>NaN</td>\n",
       "      <td>NaN</td>\n",
       "      <td>NaN</td>\n",
       "      <td>NaN</td>\n",
       "      <td>NaN</td>\n",
       "    </tr>\n",
       "    <tr>\n",
       "      <th>II (studia licencjackie)</th>\n",
       "      <td>NaN</td>\n",
       "      <td>&lt; 250</td>\n",
       "      <td>Kobieta</td>\n",
       "      <td>Niestacjonarne w trybie popołudniowym</td>\n",
       "      <td>Brak wybranego kierunku</td>\n",
       "      <td>Tak, aktywnie</td>\n",
       "      <td>dr Łukasz Pawelec</td>\n",
       "      <td>Byłem(-am) na większości</td>\n",
       "      <td>I termin</td>\n",
       "      <td>3,5</td>\n",
       "      <td>...</td>\n",
       "      <td>NaN</td>\n",
       "      <td>NaN</td>\n",
       "      <td>Łatwość zaliczenia ćwiczeń</td>\n",
       "      <td>NaN</td>\n",
       "      <td>NaN</td>\n",
       "      <td>Niezbyt porywające zajęcia</td>\n",
       "      <td>NaN</td>\n",
       "      <td>NaN</td>\n",
       "      <td>NaN</td>\n",
       "      <td>NaN</td>\n",
       "    </tr>\n",
       "    <tr>\n",
       "      <th>...</th>\n",
       "      <td>...</td>\n",
       "      <td>...</td>\n",
       "      <td>...</td>\n",
       "      <td>...</td>\n",
       "      <td>...</td>\n",
       "      <td>...</td>\n",
       "      <td>...</td>\n",
       "      <td>...</td>\n",
       "      <td>...</td>\n",
       "      <td>...</td>\n",
       "      <td>...</td>\n",
       "      <td>...</td>\n",
       "      <td>...</td>\n",
       "      <td>...</td>\n",
       "      <td>...</td>\n",
       "      <td>...</td>\n",
       "      <td>...</td>\n",
       "      <td>...</td>\n",
       "      <td>...</td>\n",
       "      <td>...</td>\n",
       "      <td>...</td>\n",
       "    </tr>\n",
       "    <tr>\n",
       "      <th>IV (studia licencjackie)</th>\n",
       "      <td>NaN</td>\n",
       "      <td>291 - 310</td>\n",
       "      <td>Mężczyzna</td>\n",
       "      <td>Stacjonarne</td>\n",
       "      <td>Finanse i rachunkowość</td>\n",
       "      <td>Tak, aktywnie</td>\n",
       "      <td>dr hab. Barbara Kowalczyk</td>\n",
       "      <td>Byłem(-am) na większości</td>\n",
       "      <td>I termin</td>\n",
       "      <td>4,0</td>\n",
       "      <td>...</td>\n",
       "      <td>NaN</td>\n",
       "      <td>NaN</td>\n",
       "      <td>NaN</td>\n",
       "      <td>NaN</td>\n",
       "      <td>NaN</td>\n",
       "      <td>Niezbyt porywające zajęcia</td>\n",
       "      <td>NaN</td>\n",
       "      <td>NaN</td>\n",
       "      <td>NaN</td>\n",
       "      <td>NaN</td>\n",
       "    </tr>\n",
       "    <tr>\n",
       "      <th>II (studia licencjackie)</th>\n",
       "      <td>NaN</td>\n",
       "      <td>271 - 290</td>\n",
       "      <td>Kobieta</td>\n",
       "      <td>Stacjonarne</td>\n",
       "      <td>Zarządzanie</td>\n",
       "      <td>Tak, aktywnie</td>\n",
       "      <td>dr. inż. Artur Bryk</td>\n",
       "      <td>Byłem(-am) na większości</td>\n",
       "      <td>II termin</td>\n",
       "      <td>3,0</td>\n",
       "      <td>...</td>\n",
       "      <td>Ciekawie prowadzone zajęcia</td>\n",
       "      <td>Interakcje ćwiczeniowca ze studentami (debaty,...</td>\n",
       "      <td>NaN</td>\n",
       "      <td>Umiejętność przekazywania wiedzy</td>\n",
       "      <td>NaN</td>\n",
       "      <td>NaN</td>\n",
       "      <td>NaN</td>\n",
       "      <td>Bardzo wymagające zaliczenie ćwiczeń</td>\n",
       "      <td>NaN</td>\n",
       "      <td>NaN</td>\n",
       "    </tr>\n",
       "    <tr>\n",
       "      <th>VI (studia licencjackie)</th>\n",
       "      <td>NaN</td>\n",
       "      <td>311 - 333</td>\n",
       "      <td>Kobieta</td>\n",
       "      <td>Stacjonarne</td>\n",
       "      <td>Metody ilościowe w ekonomii i systemy informac...</td>\n",
       "      <td>Nie</td>\n",
       "      <td>dr hab. Agata Boratyńska</td>\n",
       "      <td>Byłem(-am) na wszystkich</td>\n",
       "      <td>I termin</td>\n",
       "      <td>5,0</td>\n",
       "      <td>...</td>\n",
       "      <td>Ciekawie prowadzone zajęcia</td>\n",
       "      <td>Interakcje ćwiczeniowca ze studentami (debaty,...</td>\n",
       "      <td>NaN</td>\n",
       "      <td>Umiejętność przekazywania wiedzy</td>\n",
       "      <td>NaN</td>\n",
       "      <td>NaN</td>\n",
       "      <td>NaN</td>\n",
       "      <td>NaN</td>\n",
       "      <td>NaN</td>\n",
       "      <td>NaN</td>\n",
       "    </tr>\n",
       "    <tr>\n",
       "      <th>II (studia licencjackie)</th>\n",
       "      <td>NaN</td>\n",
       "      <td>&lt; 250</td>\n",
       "      <td>Mężczyzna</td>\n",
       "      <td>Niestacjonarne w trybie popołudniowym</td>\n",
       "      <td>Globalny biznes, finanse i zarządzanie (Govern...</td>\n",
       "      <td>Nie</td>\n",
       "      <td>dr Dorota Juszczak</td>\n",
       "      <td>Byłem(-am) na wszystkich</td>\n",
       "      <td>II termin</td>\n",
       "      <td>3,0</td>\n",
       "      <td>...</td>\n",
       "      <td>NaN</td>\n",
       "      <td>NaN</td>\n",
       "      <td>NaN</td>\n",
       "      <td>NaN</td>\n",
       "      <td>NaN</td>\n",
       "      <td>NaN</td>\n",
       "      <td>Tylko monolog ćwiczeniowca podczas zajęć</td>\n",
       "      <td>Bardzo wymagające zaliczenie ćwiczeń</td>\n",
       "      <td>Szwankujące umiejętności przekazania wiedzy</td>\n",
       "      <td>Brak możliwości zaliczenia ćwiczeń inaczej niż...</td>\n",
       "    </tr>\n",
       "    <tr>\n",
       "      <th>II (studia licencjackie)</th>\n",
       "      <td>NaN</td>\n",
       "      <td>250 - 270</td>\n",
       "      <td>Mężczyzna</td>\n",
       "      <td>Stacjonarne</td>\n",
       "      <td>Metody ilościowe w ekonomii i systemy informac...</td>\n",
       "      <td>Nie</td>\n",
       "      <td>dr inż. Piotr Lipiński</td>\n",
       "      <td>Byłem(-am) na wszystkich</td>\n",
       "      <td>I termin</td>\n",
       "      <td>4,0</td>\n",
       "      <td>...</td>\n",
       "      <td>NaN</td>\n",
       "      <td>Interakcje ćwiczeniowca ze studentami (debaty,...</td>\n",
       "      <td>NaN</td>\n",
       "      <td>Umiejętność przekazywania wiedzy</td>\n",
       "      <td>NaN</td>\n",
       "      <td>NaN</td>\n",
       "      <td>NaN</td>\n",
       "      <td>NaN</td>\n",
       "      <td>NaN</td>\n",
       "      <td>Brak możliwości zaliczenia ćwiczeń inaczej niż...</td>\n",
       "    </tr>\n",
       "  </tbody>\n",
       "</table>\n",
       "<p>223 rows × 58 columns</p>\n",
       "</div>"
      ],
      "text/plain": [
       "                                      Jeżeli jesteś absolwentem studiów licencjackich SGH, w którym roku zdobyłeś(-aś) ten dyplom?  \\\n",
       "Który semestr aktualnie realizujesz?                                                                                                 \n",
       "I (studia licencjackie)                                                             NaN                                              \n",
       "II (studia licencjackie)                                                            NaN                                              \n",
       "II (studia licencjackie)                                                            NaN                                              \n",
       "II (studia licencjackie)                                                            NaN                                              \n",
       "II (studia licencjackie)                                                            NaN                                              \n",
       "...                                                                                 ...                                              \n",
       "IV (studia licencjackie)                                                            NaN                                              \n",
       "II (studia licencjackie)                                                            NaN                                              \n",
       "VI (studia licencjackie)                                                            NaN                                              \n",
       "II (studia licencjackie)                                                            NaN                                              \n",
       "II (studia licencjackie)                                                            NaN                                              \n",
       "\n",
       "                                     Jaką liczbę punktów uzyskałeś(-aś) w postępowaniu rekrutacyjnym?  \\\n",
       "Który semestr aktualnie realizujesz?                                                                    \n",
       "I (studia licencjackie)                                                       311 - 333                 \n",
       "II (studia licencjackie)                                                      271 - 290                 \n",
       "II (studia licencjackie)                                                      250 - 270                 \n",
       "II (studia licencjackie)                                                      250 - 270                 \n",
       "II (studia licencjackie)                                                          < 250                 \n",
       "...                                                                                 ...                 \n",
       "IV (studia licencjackie)                                                      291 - 310                 \n",
       "II (studia licencjackie)                                                      271 - 290                 \n",
       "VI (studia licencjackie)                                                      311 - 333                 \n",
       "II (studia licencjackie)                                                          < 250                 \n",
       "II (studia licencjackie)                                                      250 - 270                 \n",
       "\n",
       "                                          Płeć:  \\\n",
       "Który semestr aktualnie realizujesz?              \n",
       "I (studia licencjackie)                 Kobieta   \n",
       "II (studia licencjackie)              Mężczyzna   \n",
       "II (studia licencjackie)                Kobieta   \n",
       "II (studia licencjackie)              Mężczyzna   \n",
       "II (studia licencjackie)                Kobieta   \n",
       "...                                         ...   \n",
       "IV (studia licencjackie)              Mężczyzna   \n",
       "II (studia licencjackie)                Kobieta   \n",
       "VI (studia licencjackie)                Kobieta   \n",
       "II (studia licencjackie)              Mężczyzna   \n",
       "II (studia licencjackie)              Mężczyzna   \n",
       "\n",
       "                                       \\tW jakim trybie studiujesz/studiowałeś na studiach licencjackich w SGH?    \\\n",
       "Który semestr aktualnie realizujesz?                                                                                \n",
       "I (studia licencjackie)                                                     Stacjonarne                             \n",
       "II (studia licencjackie)                                                    Stacjonarne                             \n",
       "II (studia licencjackie)                                                    Stacjonarne                             \n",
       "II (studia licencjackie)                                                    Stacjonarne                             \n",
       "II (studia licencjackie)                          Niestacjonarne w trybie popołudniowym                             \n",
       "...                                                                                 ...                             \n",
       "IV (studia licencjackie)                                                    Stacjonarne                             \n",
       "II (studia licencjackie)                                                    Stacjonarne                             \n",
       "VI (studia licencjackie)                                                    Stacjonarne                             \n",
       "II (studia licencjackie)                          Niestacjonarne w trybie popołudniowym                             \n",
       "II (studia licencjackie)                                                    Stacjonarne                             \n",
       "\n",
       "                                     Jaki jest/był Twój kierunek na studiach licencjackich w SGH?  \\\n",
       "Który semestr aktualnie realizujesz?                                                                \n",
       "I (studia licencjackie)                                         Brak wybranego kierunku             \n",
       "II (studia licencjackie)                                        Brak wybranego kierunku             \n",
       "II (studia licencjackie)                                        Brak wybranego kierunku             \n",
       "II (studia licencjackie)                                        Brak wybranego kierunku             \n",
       "II (studia licencjackie)                                        Brak wybranego kierunku             \n",
       "...                                                                                 ...             \n",
       "IV (studia licencjackie)                                         Finanse i rachunkowość             \n",
       "II (studia licencjackie)                                                    Zarządzanie             \n",
       "VI (studia licencjackie)              Metody ilościowe w ekonomii i systemy informac...             \n",
       "II (studia licencjackie)              Globalny biznes, finanse i zarządzanie (Govern...             \n",
       "II (studia licencjackie)              Metody ilościowe w ekonomii i systemy informac...             \n",
       "\n",
       "                                     Czy w ciągu 2 pierwszych semestrów studiów licencjackich działałeś(-aś) w organizacjach studenckich?  \\\n",
       "Który semestr aktualnie realizujesz?                                                                                                        \n",
       "I (studia licencjackie)                                                   Tak, aktywnie                                                     \n",
       "II (studia licencjackie)                                              Tak, sporadycznie                                                     \n",
       "II (studia licencjackie)                                                            Nie                                                     \n",
       "II (studia licencjackie)                                                  Tak, aktywnie                                                     \n",
       "II (studia licencjackie)                                                  Tak, aktywnie                                                     \n",
       "...                                                                                 ...                                                     \n",
       "IV (studia licencjackie)                                                  Tak, aktywnie                                                     \n",
       "II (studia licencjackie)                                                  Tak, aktywnie                                                     \n",
       "VI (studia licencjackie)                                                            Nie                                                     \n",
       "II (studia licencjackie)                                                            Nie                                                     \n",
       "II (studia licencjackie)                                                            Nie                                                     \n",
       "\n",
       "                                     Wybierz z listy imię i nazwisko wykładowcy, u którego realizowałeś(-aś) Matematykę.  \\\n",
       "Który semestr aktualnie realizujesz?                                                                                       \n",
       "I (studia licencjackie)                              prof. dr hab. Sławomir Dorosiewicz                                    \n",
       "II (studia licencjackie)                                       dr hab. Agata Boratyńska                                    \n",
       "II (studia licencjackie)                                         dr Mariusz Kozakiewicz                                    \n",
       "II (studia licencjackie)                                 prof. dr hab. Jerzy Nowakowski                                    \n",
       "II (studia licencjackie)                                              dr Łukasz Pawelec                                    \n",
       "...                                                                                 ...                                    \n",
       "IV (studia licencjackie)                                      dr hab. Barbara Kowalczyk                                    \n",
       "II (studia licencjackie)                                            dr. inż. Artur Bryk                                    \n",
       "VI (studia licencjackie)                                       dr hab. Agata Boratyńska                                    \n",
       "II (studia licencjackie)                                             dr Dorota Juszczak                                    \n",
       "II (studia licencjackie)                                         dr inż. Piotr Lipiński                                    \n",
       "\n",
       "                                     Jak często uczęszczałeś(-aś) na wykłady  \\\n",
       "Który semestr aktualnie realizujesz?                                           \n",
       "I (studia licencjackie)                             Byłem(-am) na większości   \n",
       "II (studia licencjackie)                            Byłem(-am) na wszystkich   \n",
       "II (studia licencjackie)                            Byłem(-am) na większości   \n",
       "II (studia licencjackie)                               Byłem(-am) kilka razy   \n",
       "II (studia licencjackie)                            Byłem(-am) na większości   \n",
       "...                                                                      ...   \n",
       "IV (studia licencjackie)                            Byłem(-am) na większości   \n",
       "II (studia licencjackie)                            Byłem(-am) na większości   \n",
       "VI (studia licencjackie)                            Byłem(-am) na wszystkich   \n",
       "II (studia licencjackie)                            Byłem(-am) na wszystkich   \n",
       "II (studia licencjackie)                            Byłem(-am) na wszystkich   \n",
       "\n",
       "                                     W którym terminie zaliczyłeś(-aś) egzamin?  \\\n",
       "Który semestr aktualnie realizujesz?                                              \n",
       "I (studia licencjackie)                                                I termin   \n",
       "II (studia licencjackie)                                               I termin   \n",
       "II (studia licencjackie)                                               I termin   \n",
       "II (studia licencjackie)                                               I termin   \n",
       "II (studia licencjackie)                                               I termin   \n",
       "...                                                                         ...   \n",
       "IV (studia licencjackie)                                               I termin   \n",
       "II (studia licencjackie)                                              II termin   \n",
       "VI (studia licencjackie)                                               I termin   \n",
       "II (studia licencjackie)                                              II termin   \n",
       "II (studia licencjackie)                                               I termin   \n",
       "\n",
       "                                     Jaką uzyskałeś(-aś) końcową ocenę z przedmiotu?  \\\n",
       "Który semestr aktualnie realizujesz?                                                   \n",
       "I (studia licencjackie)                                                          3,0   \n",
       "II (studia licencjackie)                                                         4,5   \n",
       "II (studia licencjackie)                                                         4,0   \n",
       "II (studia licencjackie)                                                         4,5   \n",
       "II (studia licencjackie)                                                         3,5   \n",
       "...                                                                              ...   \n",
       "IV (studia licencjackie)                                                         4,0   \n",
       "II (studia licencjackie)                                                         3,0   \n",
       "VI (studia licencjackie)                                                         5,0   \n",
       "II (studia licencjackie)                                                         3,0   \n",
       "II (studia licencjackie)                                                         4,0   \n",
       "\n",
       "                                      ...  \\\n",
       "Który semestr aktualnie realizujesz?  ...   \n",
       "I (studia licencjackie)               ...   \n",
       "II (studia licencjackie)              ...   \n",
       "II (studia licencjackie)              ...   \n",
       "II (studia licencjackie)              ...   \n",
       "II (studia licencjackie)              ...   \n",
       "...                                   ...   \n",
       "IV (studia licencjackie)              ...   \n",
       "II (studia licencjackie)              ...   \n",
       "VI (studia licencjackie)              ...   \n",
       "II (studia licencjackie)              ...   \n",
       "II (studia licencjackie)              ...   \n",
       "\n",
       "                                      Dlaczego poleciłbyś/nie poleciłbyś danego ćwiczeniowca innym studentom?  \\\n",
       "Który semestr aktualnie realizujesz?                                                                            \n",
       "I (studia licencjackie)                                     Ciekawie prowadzone zajęcia                         \n",
       "II (studia licencjackie)                                    Ciekawie prowadzone zajęcia                         \n",
       "II (studia licencjackie)                                                            NaN                         \n",
       "II (studia licencjackie)                                                            NaN                         \n",
       "II (studia licencjackie)                                                            NaN                         \n",
       "...                                                                                 ...                         \n",
       "IV (studia licencjackie)                                                            NaN                         \n",
       "II (studia licencjackie)                                    Ciekawie prowadzone zajęcia                         \n",
       "VI (studia licencjackie)                                    Ciekawie prowadzone zajęcia                         \n",
       "II (studia licencjackie)                                                            NaN                         \n",
       "II (studia licencjackie)                                                            NaN                         \n",
       "\n",
       "                                                                            Unnamed: 50  \\\n",
       "Który semestr aktualnie realizujesz?                                                      \n",
       "I (studia licencjackie)                                                             NaN   \n",
       "II (studia licencjackie)                                                            NaN   \n",
       "II (studia licencjackie)                                                            NaN   \n",
       "II (studia licencjackie)                                                            NaN   \n",
       "II (studia licencjackie)                                                            NaN   \n",
       "...                                                                                 ...   \n",
       "IV (studia licencjackie)                                                            NaN   \n",
       "II (studia licencjackie)              Interakcje ćwiczeniowca ze studentami (debaty,...   \n",
       "VI (studia licencjackie)              Interakcje ćwiczeniowca ze studentami (debaty,...   \n",
       "II (studia licencjackie)                                                            NaN   \n",
       "II (studia licencjackie)              Interakcje ćwiczeniowca ze studentami (debaty,...   \n",
       "\n",
       "                                                     Unnamed: 51  \\\n",
       "Który semestr aktualnie realizujesz?                               \n",
       "I (studia licencjackie)                                      NaN   \n",
       "II (studia licencjackie)                                     NaN   \n",
       "II (studia licencjackie)              Łatwość zaliczenia ćwiczeń   \n",
       "II (studia licencjackie)              Łatwość zaliczenia ćwiczeń   \n",
       "II (studia licencjackie)              Łatwość zaliczenia ćwiczeń   \n",
       "...                                                          ...   \n",
       "IV (studia licencjackie)                                     NaN   \n",
       "II (studia licencjackie)                                     NaN   \n",
       "VI (studia licencjackie)                                     NaN   \n",
       "II (studia licencjackie)                                     NaN   \n",
       "II (studia licencjackie)                                     NaN   \n",
       "\n",
       "                                                           Unnamed: 52  \\\n",
       "Który semestr aktualnie realizujesz?                                     \n",
       "I (studia licencjackie)                                            NaN   \n",
       "II (studia licencjackie)              Umiejętność przekazywania wiedzy   \n",
       "II (studia licencjackie)                                           NaN   \n",
       "II (studia licencjackie)              Umiejętność przekazywania wiedzy   \n",
       "II (studia licencjackie)                                           NaN   \n",
       "...                                                                ...   \n",
       "IV (studia licencjackie)                                           NaN   \n",
       "II (studia licencjackie)              Umiejętność przekazywania wiedzy   \n",
       "VI (studia licencjackie)              Umiejętność przekazywania wiedzy   \n",
       "II (studia licencjackie)                                           NaN   \n",
       "II (studia licencjackie)              Umiejętność przekazywania wiedzy   \n",
       "\n",
       "                                      Unnamed: 53                 Unnamed: 54  \\\n",
       "Który semestr aktualnie realizujesz?                                            \n",
       "I (studia licencjackie)                       NaN                         NaN   \n",
       "II (studia licencjackie)                      NaN                         NaN   \n",
       "II (studia licencjackie)                      NaN  Niezbyt porywające zajęcia   \n",
       "II (studia licencjackie)                      NaN                         NaN   \n",
       "II (studia licencjackie)                      NaN  Niezbyt porywające zajęcia   \n",
       "...                                           ...                         ...   \n",
       "IV (studia licencjackie)                      NaN  Niezbyt porywające zajęcia   \n",
       "II (studia licencjackie)                      NaN                         NaN   \n",
       "VI (studia licencjackie)                      NaN                         NaN   \n",
       "II (studia licencjackie)                      NaN                         NaN   \n",
       "II (studia licencjackie)                      NaN                         NaN   \n",
       "\n",
       "                                                                   Unnamed: 55  \\\n",
       "Który semestr aktualnie realizujesz?                                             \n",
       "I (studia licencjackie)                                                    NaN   \n",
       "II (studia licencjackie)                                                   NaN   \n",
       "II (studia licencjackie)                                                   NaN   \n",
       "II (studia licencjackie)                                                   NaN   \n",
       "II (studia licencjackie)                                                   NaN   \n",
       "...                                                                        ...   \n",
       "IV (studia licencjackie)                                                   NaN   \n",
       "II (studia licencjackie)                                                   NaN   \n",
       "VI (studia licencjackie)                                                   NaN   \n",
       "II (studia licencjackie)              Tylko monolog ćwiczeniowca podczas zajęć   \n",
       "II (studia licencjackie)                                                   NaN   \n",
       "\n",
       "                                                               Unnamed: 56  \\\n",
       "Który semestr aktualnie realizujesz?                                         \n",
       "I (studia licencjackie)                                                NaN   \n",
       "II (studia licencjackie)              Bardzo wymagające zaliczenie ćwiczeń   \n",
       "II (studia licencjackie)                                               NaN   \n",
       "II (studia licencjackie)                                               NaN   \n",
       "II (studia licencjackie)                                               NaN   \n",
       "...                                                                    ...   \n",
       "IV (studia licencjackie)                                               NaN   \n",
       "II (studia licencjackie)              Bardzo wymagające zaliczenie ćwiczeń   \n",
       "VI (studia licencjackie)                                               NaN   \n",
       "II (studia licencjackie)              Bardzo wymagające zaliczenie ćwiczeń   \n",
       "II (studia licencjackie)                                               NaN   \n",
       "\n",
       "                                                                      Unnamed: 57  \\\n",
       "Który semestr aktualnie realizujesz?                                                \n",
       "I (studia licencjackie)               Szwankujące umiejętności przekazania wiedzy   \n",
       "II (studia licencjackie)                                                      NaN   \n",
       "II (studia licencjackie)              Szwankujące umiejętności przekazania wiedzy   \n",
       "II (studia licencjackie)                                                      NaN   \n",
       "II (studia licencjackie)                                                      NaN   \n",
       "...                                                                           ...   \n",
       "IV (studia licencjackie)                                                      NaN   \n",
       "II (studia licencjackie)                                                      NaN   \n",
       "VI (studia licencjackie)                                                      NaN   \n",
       "II (studia licencjackie)              Szwankujące umiejętności przekazania wiedzy   \n",
       "II (studia licencjackie)                                                      NaN   \n",
       "\n",
       "                                                                            Unnamed: 58  \n",
       "Który semestr aktualnie realizujesz?                                                     \n",
       "I (studia licencjackie)                                                             NaN  \n",
       "II (studia licencjackie)                                                            NaN  \n",
       "II (studia licencjackie)              Brak możliwości zaliczenia ćwiczeń inaczej niż...  \n",
       "II (studia licencjackie)                                                            NaN  \n",
       "II (studia licencjackie)                                                            NaN  \n",
       "...                                                                                 ...  \n",
       "IV (studia licencjackie)                                                            NaN  \n",
       "II (studia licencjackie)                                                            NaN  \n",
       "VI (studia licencjackie)                                                            NaN  \n",
       "II (studia licencjackie)              Brak możliwości zaliczenia ćwiczeń inaczej niż...  \n",
       "II (studia licencjackie)              Brak możliwości zaliczenia ćwiczeń inaczej niż...  \n",
       "\n",
       "[223 rows x 58 columns]"
      ]
     },
     "execution_count": 5,
     "metadata": {},
     "output_type": "execute_result"
    }
   ],
   "source": [
    "pd.read_excel('Matma1.xlsx', index_col=0)"
   ]
  },
  {
   "cell_type": "code",
   "execution_count": 1,
   "metadata": {},
   "outputs": [],
   "source": [
    "#### 5. Wyczyść w/w dane"
   ]
  }
 ],
 "metadata": {
  "kernelspec": {
   "display_name": "Python 3",
   "language": "python",
   "name": "python3"
  },
  "language_info": {
   "codemirror_mode": {
    "name": "ipython",
    "version": 3
   },
   "file_extension": ".py",
   "mimetype": "text/x-python",
   "name": "python",
   "nbconvert_exporter": "python",
   "pygments_lexer": "ipython3",
   "version": "3.7.5"
  }
 },
 "nbformat": 4,
 "nbformat_minor": 4
}
